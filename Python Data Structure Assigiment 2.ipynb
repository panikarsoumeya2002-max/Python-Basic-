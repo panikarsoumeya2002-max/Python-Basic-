{
  "nbformat": 4,
  "nbformat_minor": 0,
  "metadata": {
    "colab": {
      "provenance": []
    },
    "kernelspec": {
      "name": "python3",
      "display_name": "Python 3"
    },
    "language_info": {
      "name": "python"
    }
  },
  "cells": [
    {
      "cell_type": "markdown",
      "source": [
        "1. What are data structures, and why are they important?\n",
        "\n",
        "Answer Data structures are ways to organize and store data so it can be used efficiently. Examples include arrays, lists, stacks, queues, and trees.\n",
        "\n",
        "They are important because they help programs run faster, use less memory, and solve problems more easily—like finding, sorting, or updating information.\n",
        "\n",
        "2. Mutable data types can be changed after they’re created. Immutable data types cannot be changed once created.\n",
        "\n",
        "Answer Mutable data types can be changed after they’re created. Immutable data types cannot be changed once created.\n",
        "Example-\n",
        "Mutable  \n",
        "my_list = [1, 2, 3]  \n",
        "my_list.append(4)  # Now it's [1, 2, 3, 4]\n",
        "\n",
        "Immutable\n",
        "my_str = \"hello\"  \n",
        "my_str[0] = \"H\"  # Error! Strings can't be changed\n",
        "\n",
        "3. What are the main differences between lists and tuples in Python?\n",
        "\n",
        "Answer Simple comparison between **lists** and **tuples** in Python:\n",
        "\n",
        "- **Lists** are **mutable** you can change, add, or remove items.\n",
        "- **Tuples** are **immutable** once created, they can’t be changed.\n",
        "- Lists use **square brackets**: `[1, 2, 3]`\n",
        "- Tuples use **parentheses**: `(1, 2, 3)`\n",
        "- Tuples are generally **faster** and use **less memory** than lists.\n",
        "\n",
        "Use **lists** when your data might change, and **tuples** when it should stay the same.\n",
        "\n",
        "4. Describe how dictionaries store data.\n",
        "\n",
        "Answer Dictionaries in Python store data as key-value pairs.\n",
        "\n",
        "Each key is unique and points to a value. It’s like a real dictionary where a word (key) maps to its meaning (value).\n",
        "\n",
        "5. Why might you use a set instead of a list in Python?\n",
        "\n",
        "Answer 1.Avoid duplicates – sets automatically remove repeated items.\n",
        "2.Check membership quickly – checking if an item exists is faster in sets.\n",
        "3.Do set operations – like union, intersection, and difference.\n",
        "\n",
        "6. What is a string in Python, and how is it different from a list?\n",
        "\n",
        "Answer A string in Python is a sequence of characters, like words or sentences. A list is a collection of items, which can be numbers, strings, or other types.\n",
        "\n",
        "Key Differences:\n",
        "String: \"hello\" – made only of characters.\n",
        "List: [\"h\", \"e\", \"l\", \"l\", \"o\"] – can hold different types and be changed.\n",
        "\n",
        "Also, strings are immutable (can’t be changed), while lists are mutable (can be changed).\n",
        "\n",
        "7. How do tuples ensure data integrity in Python?\n",
        "\n",
        "Answer Tuples ensure data integrity in Python because they are immutable—once created, their values cannot be changed.\n",
        "\n",
        "This means:\n",
        "\n",
        "1. No accidental updates\n",
        "2. Safer to use for fixed data\n",
        "3. Ideal for storing constants or keys\n",
        "\n",
        "By locking the data in place, tuples help keep it reliable and secure.\n",
        "\n",
        "8.  What is a hash table, and how does it relate to dictionaries in Python?\n",
        "\n",
        "Answer A hash table is a data structure that stores key-value pairs and uses a hash function to quickly find the location of a value based on its key.\n",
        "\n",
        "In Python, a dictionary is built using a hash table under the hood. So when you do something like:\n",
        "\n",
        "my_dict = {'apple': 5, 'banana': 3}\n",
        "\n",
        "Python uses a hash table to store and retrieve 'apple' and 'banana' efficiently. That’s why looking up values in a dictionary is super fast!\n",
        "\n",
        "9.  Can lists contain different data types in Python?\n",
        "\n",
        "Answer Python lists can contain different data types.\n",
        "\n",
        "For example: my_list = [42, \"hello\", 3.14, True]\n",
        "This list has an integer, a string, a float, and a boolean—all in one list!\n",
        "\n",
        "10. Explain why strings are immutable in Python.\n",
        "\n",
        "Answer Strings are immutable in Python because once a string is created, it cannot be changed. This helps make programs safer and faster—especially when strings are shared or used in loops. If you want a different string, Python creates a new one instead of changing the old one.\n",
        "\n",
        "11.  What advantages do dictionaries offer over lists for certain tasks?\n",
        "\n",
        "Asnwer Dictionaries are better than lists when you need to:\n",
        "\n",
        "1. Find things quickly using a key\n",
        "2. Use meaningful names instead of numbers\n",
        "3. Update values easily\n",
        "4. Store related data together\n",
        "\n",
        "They’re perfect for tasks like storing user info or counting items\n",
        "\n",
        "12. Describe a scenario where using a tuple would be preferable over a list.\n",
        "\n",
        "Answer tuple is preferable when you want to store data that should not change.Here, the coordinates are fixed—you don’t want them accidentally modified. Tuples are immutable, so they help protect your data.\n",
        "\n",
        "13.  How do sets handle duplicate values in Python?\n",
        "\n",
        "Answer Sets in Python automatically remove duplicates. If you add the same value more than once, it only keeps one copy.\n",
        "\n",
        "14.  How does the “in” keyword work differently for lists and dictionaries?\n",
        "\n",
        "Answer\n",
        "1. In a list, the in keyword checks if a value is in the list.\n",
        "2. In a dictionary, in checks if a key is present—not the value.\n",
        "\n",
        "So, in looks for values in lists, but for keys in dictionaries.\n",
        "\n",
        "15. Can you modify the elements of a tuple? Explain why or why not.\n",
        "\n",
        "Answer No, one can't modify elements of a tuple because tuples are immutable. That means once a tuple is created, its values cannot be changed. This helps keep data safe and fixed.\n",
        "\n",
        "16. What is a nested dictionary, and give an example of its use case?\n",
        "\n",
        "Answer A nested dictionary is a dictionary inside another dictionary. It helps organize complex data.\n",
        "\n",
        "Example-students = {\n",
        "    '101': {'name': 'Soumeya', 'age': 20},\n",
        "    '102': {'name': 'Aarav', 'age': 22}\n",
        "}\n",
        "\n",
        "can easily access details like students['101']['name'] → 'Soumeya'.\n",
        "\n",
        "17. Describe the time complexity of accessing elements in a dictionary.\n",
        "\n",
        "Answer Accessing elements in a dictionary is **O(1)** time complexity on average. That means it's **very fast**, no matter how big the dictionary is—thanks to how hash tables work behind the scenes.                    \n",
        "\n",
        "18.  In what situations are lists preferred over dictionaries?\n",
        "\n",
        "Answer Accessing elements in a dictionary is O(1) time complexity on average. That means it's very fast, no matter how big the dictionary is—thanks to how hash tables work behind the scenes.\n",
        "\n",
        "19. Why are dictionaries considered unordered, and how does that affect data retrieval?\n",
        "\n",
        "Answer Dictionaries are considered unordered because they don’t keep items in a fixed sequence like lists do. Instead, they store data by keys using a hash table.\n",
        "\n",
        "1. You can’t rely on the order of items.\n",
        "2. But you can quickly find a value using its key—fast and efficient!\n",
        "\n",
        "20. Explain the difference between a list and a dictionary in terms of data retrieval.\n",
        "\n",
        "Answer A list retrieves data by position (index), like my_list[0] for the first item.\n",
        "\n",
        "A dictionary retrieves data by key, like my_dict['name'] for a specific value.\n",
        "\n",
        "So, lists use numbers to find items, while dictionaries use names (keys)."
      ],
      "metadata": {
        "id": "0vbO3PNMC4sH"
      }
    },
    {
      "cell_type": "markdown",
      "source": [
        " Practical Questions"
      ],
      "metadata": {
        "id": "X38TcLoEC6ag"
      }
    },
    {
      "cell_type": "markdown",
      "source": [
        "1.  Write a code to create a string with your name and print it"
      ],
      "metadata": {
        "id": "txR22phoJjZq"
      }
    },
    {
      "cell_type": "code",
      "source": [
        "my_name = \"Soumeya\"\n",
        "print(my_name)\n"
      ],
      "metadata": {
        "colab": {
          "base_uri": "https://localhost:8080/"
        },
        "id": "fb84m0LPJswp",
        "outputId": "7503d771-4271-446b-ac59-bf2c33ed26d6"
      },
      "execution_count": 1,
      "outputs": [
        {
          "output_type": "stream",
          "name": "stdout",
          "text": [
            "Soumeya\n"
          ]
        }
      ]
    },
    {
      "cell_type": "markdown",
      "source": [
        "2. Write a code to find the length of the string \"Hello World\""
      ],
      "metadata": {
        "id": "BnHoUHmHJ3q_"
      }
    },
    {
      "cell_type": "code",
      "source": [
        "text = \"Hello World\"\n",
        "lenght = len(text)\n",
        "print(lenght)"
      ],
      "metadata": {
        "colab": {
          "base_uri": "https://localhost:8080/"
        },
        "id": "P2B-nYc-Jwu2",
        "outputId": "8872ca6c-e463-490a-e47f-380a610a872f"
      },
      "execution_count": 8,
      "outputs": [
        {
          "output_type": "stream",
          "name": "stdout",
          "text": [
            "11\n"
          ]
        }
      ]
    },
    {
      "cell_type": "markdown",
      "source": [
        "3. Write a code to slice the first 3 characters from the string \"Python Programming\"."
      ],
      "metadata": {
        "id": "NOKZgcZBKcty"
      }
    },
    {
      "cell_type": "code",
      "source": [
        "text = \"Python Programming\"\n",
        "sliced = text[: 3]\n",
        "print(sliced)"
      ],
      "metadata": {
        "colab": {
          "base_uri": "https://localhost:8080/"
        },
        "id": "nN4Z-K4iKgG8",
        "outputId": "63897aba-d714-4ad4-b264-45f51c73a9c4"
      },
      "execution_count": 9,
      "outputs": [
        {
          "output_type": "stream",
          "name": "stdout",
          "text": [
            "Pyt\n"
          ]
        }
      ]
    },
    {
      "cell_type": "markdown",
      "source": [
        "4. Write a code to convert the string \"hello\" to uppercase."
      ],
      "metadata": {
        "id": "MBFKR1IMK5vP"
      }
    },
    {
      "cell_type": "code",
      "source": [
        "text = \"hello\"\n",
        "uppercase_text = text.upper()\n",
        "print(uppercase_text)\n"
      ],
      "metadata": {
        "colab": {
          "base_uri": "https://localhost:8080/"
        },
        "id": "eh2dlcuvK70b",
        "outputId": "02ed2de0-1fc1-45a9-ab0a-081feb475ede"
      },
      "execution_count": 10,
      "outputs": [
        {
          "output_type": "stream",
          "name": "stdout",
          "text": [
            "HELLO\n"
          ]
        }
      ]
    },
    {
      "cell_type": "markdown",
      "source": [
        "5. Write a code to replace the word \"apple\" with \"orange\" in the string \"I like apple."
      ],
      "metadata": {
        "id": "xVgqCN9TLD88"
      }
    },
    {
      "cell_type": "code",
      "source": [
        "text = \"I like apple\"\n",
        "new_text = text.replace(\"apple\",\"orange\")\n",
        "print(new_text)"
      ],
      "metadata": {
        "colab": {
          "base_uri": "https://localhost:8080/"
        },
        "id": "26UXz9DYLJk5",
        "outputId": "4f0a54ac-92d9-4d27-c055-69d386a7f137"
      },
      "execution_count": 11,
      "outputs": [
        {
          "output_type": "stream",
          "name": "stdout",
          "text": [
            "I like orange\n"
          ]
        }
      ]
    },
    {
      "cell_type": "markdown",
      "source": [
        "6. Write a code to create a list with numbers 1 to 5 and print it."
      ],
      "metadata": {
        "id": "LceeCMlfLh_5"
      }
    },
    {
      "cell_type": "code",
      "source": [
        "number_list =[1,2,3,4,5]\n",
        "print(number_list)"
      ],
      "metadata": {
        "colab": {
          "base_uri": "https://localhost:8080/"
        },
        "id": "6Z_fLASwLk4t",
        "outputId": "63c3b7de-c5a3-4c7b-8d7a-c29e41fda5d0"
      },
      "execution_count": 13,
      "outputs": [
        {
          "output_type": "stream",
          "name": "stdout",
          "text": [
            "[1, 2, 3, 4, 5]\n"
          ]
        }
      ]
    },
    {
      "cell_type": "markdown",
      "source": [
        "7. Write a code to append the number 10 to the list [1, 2, 3, 4].\n"
      ],
      "metadata": {
        "id": "PD2o6NQGL3aD"
      }
    },
    {
      "cell_type": "code",
      "source": [
        "numbers = [1,2,3,4]\n",
        "numbers.append(10)\n",
        "print(numbers)"
      ],
      "metadata": {
        "colab": {
          "base_uri": "https://localhost:8080/"
        },
        "id": "wBJ5MaYzL_HW",
        "outputId": "4f990eaa-71da-4d9e-f1b1-61f23d512ff1"
      },
      "execution_count": 14,
      "outputs": [
        {
          "output_type": "stream",
          "name": "stdout",
          "text": [
            "[1, 2, 3, 4, 10]\n"
          ]
        }
      ]
    },
    {
      "cell_type": "markdown",
      "source": [
        "8.  Write a code to remove the number 3 from the list [1, 2, 3, 4, 5]."
      ],
      "metadata": {
        "id": "jytSTyMWMTnU"
      }
    },
    {
      "cell_type": "code",
      "source": [
        "numbers = [1,2,3,4,5]\n",
        "numbers.remove(3)\n",
        "print(numbers)"
      ],
      "metadata": {
        "colab": {
          "base_uri": "https://localhost:8080/"
        },
        "id": "xj7qngIqMWlI",
        "outputId": "29ef1dca-1471-447f-e8d7-cd92923db5d8"
      },
      "execution_count": 16,
      "outputs": [
        {
          "output_type": "stream",
          "name": "stdout",
          "text": [
            "[1, 2, 4, 5]\n"
          ]
        }
      ]
    },
    {
      "cell_type": "markdown",
      "source": [
        "9. Write a code to access the second element in the list ['a', 'b', 'c', 'd']"
      ],
      "metadata": {
        "id": "m_4HYqGsMlK9"
      }
    },
    {
      "cell_type": "code",
      "source": [
        "letter = ['a', 'b', 'c', 'd']\n",
        "second_letter = letter[1]\n",
        "print(second_letter)\n"
      ],
      "metadata": {
        "colab": {
          "base_uri": "https://localhost:8080/"
        },
        "id": "cBJnXqA4MoYZ",
        "outputId": "98535c4f-a8e0-4b95-e96a-49933bcc0521"
      },
      "execution_count": 19,
      "outputs": [
        {
          "output_type": "stream",
          "name": "stdout",
          "text": [
            "b\n"
          ]
        }
      ]
    },
    {
      "cell_type": "markdown",
      "source": [
        "10.  Write a code to reverse the list [10, 20, 30, 40, 50].\n"
      ],
      "metadata": {
        "id": "HPasmU2nNLvk"
      }
    },
    {
      "cell_type": "code",
      "source": [
        "numbers = [10, 20, 30, 40, 50]\n",
        "reversed_list = numbers[::-1]\n",
        "print(reversed_list)\n"
      ],
      "metadata": {
        "colab": {
          "base_uri": "https://localhost:8080/"
        },
        "id": "pHLGZ2XsNO11",
        "outputId": "06d0868d-5779-4acb-fc2e-fe8840380546"
      },
      "execution_count": 20,
      "outputs": [
        {
          "output_type": "stream",
          "name": "stdout",
          "text": [
            "[50, 40, 30, 20, 10]\n"
          ]
        }
      ]
    },
    {
      "cell_type": "markdown",
      "source": [
        "11. Write a code to create a tuple with the elements 100, 200, 300 and print it."
      ],
      "metadata": {
        "id": "XXXcw7rzNXO9"
      }
    },
    {
      "cell_type": "code",
      "source": [
        "my_tuple = (100,200,300)\n",
        "print(my_tuple)\n"
      ],
      "metadata": {
        "colab": {
          "base_uri": "https://localhost:8080/"
        },
        "id": "hNiFomNLNaBu",
        "outputId": "3900e4f6-314f-4f68-fa52-85c29fd82f9f"
      },
      "execution_count": 22,
      "outputs": [
        {
          "output_type": "stream",
          "name": "stdout",
          "text": [
            "(100, 200, 300)\n"
          ]
        }
      ]
    },
    {
      "cell_type": "markdown",
      "source": [
        "12. Write a code to access the second-to-last element of the tuple ('red', 'green', 'blue', 'yellow')."
      ],
      "metadata": {
        "id": "gDi5ByvdNtbM"
      }
    },
    {
      "cell_type": "code",
      "source": [
        "colors = ('red', 'green', 'blue', 'yellow')\n",
        "second_last = colors[-2]\n",
        "print(second_last)\n"
      ],
      "metadata": {
        "colab": {
          "base_uri": "https://localhost:8080/"
        },
        "id": "lolHE2uHNxPk",
        "outputId": "9bed79c2-6df0-4f16-85cd-709da50a5a1c"
      },
      "execution_count": 23,
      "outputs": [
        {
          "output_type": "stream",
          "name": "stdout",
          "text": [
            "blue\n"
          ]
        }
      ]
    },
    {
      "cell_type": "markdown",
      "source": [
        "13.  Write a code to find the minimum number in the tuple (10, 20, 5, 15)"
      ],
      "metadata": {
        "id": "bdBWMOGJOKtw"
      }
    },
    {
      "cell_type": "code",
      "source": [
        "numbers = (10, 20, 5, 15)\n",
        "minimum = min(numbers)\n",
        "print(minimum)\n"
      ],
      "metadata": {
        "colab": {
          "base_uri": "https://localhost:8080/"
        },
        "id": "nunRVSYoOMd7",
        "outputId": "2fc92508-54df-4a30-c1ae-4d5f1e37b172"
      },
      "execution_count": 24,
      "outputs": [
        {
          "output_type": "stream",
          "name": "stdout",
          "text": [
            "5\n"
          ]
        }
      ]
    },
    {
      "cell_type": "markdown",
      "source": [
        "14. Write a code to find the index of the element \"cat\" in the tuple ('dog', 'cat', 'rabbit')"
      ],
      "metadata": {
        "id": "05XJysG_OSdD"
      }
    },
    {
      "cell_type": "code",
      "source": [
        "animals = ('dog', 'cat', 'rabbit')\n",
        "index_of_cat = animals.index('cat')\n",
        "print(index_of_cat)\n"
      ],
      "metadata": {
        "colab": {
          "base_uri": "https://localhost:8080/"
        },
        "id": "hJMG8_aCOTma",
        "outputId": "41d21a03-2545-4d57-ba76-277a32feb999"
      },
      "execution_count": 25,
      "outputs": [
        {
          "output_type": "stream",
          "name": "stdout",
          "text": [
            "1\n"
          ]
        }
      ]
    },
    {
      "cell_type": "markdown",
      "source": [
        "15.  Write a code to create a tuple containing three different fruits and check if \"kiwi\" is in it."
      ],
      "metadata": {
        "id": "nysX5R24OYvd"
      }
    },
    {
      "cell_type": "code",
      "source": [
        "fruits = ('apple', 'banana', 'cherry')\n",
        "if 'kiwi' in fruits:\n",
        "    print(\"Kiwi is in the tuple.\")\n",
        "else:\n",
        "    print(\"Kiwi is not in the tuple.\")\n"
      ],
      "metadata": {
        "colab": {
          "base_uri": "https://localhost:8080/"
        },
        "id": "vo2AmNRqNqay",
        "outputId": "ef302ab9-53a0-4353-be89-331ed8adb028"
      },
      "execution_count": 26,
      "outputs": [
        {
          "output_type": "stream",
          "name": "stdout",
          "text": [
            "Kiwi is not in the tuple.\n"
          ]
        }
      ]
    },
    {
      "cell_type": "markdown",
      "source": [
        "16. Write a code to create a set with the elements 'a', 'b', 'c' and print it"
      ],
      "metadata": {
        "id": "wIh35yFzOeSH"
      }
    },
    {
      "cell_type": "code",
      "source": [
        "my_set = {'a', 'b', 'c'}\n",
        "print(my_set)\n"
      ],
      "metadata": {
        "colab": {
          "base_uri": "https://localhost:8080/"
        },
        "id": "YEHvWmwEOfQC",
        "outputId": "d5b54df0-3a70-46ca-d033-b32265f60e8e"
      },
      "execution_count": 27,
      "outputs": [
        {
          "output_type": "stream",
          "name": "stdout",
          "text": [
            "{'a', 'b', 'c'}\n"
          ]
        }
      ]
    },
    {
      "cell_type": "markdown",
      "source": [
        "17.  Write a code to clear all elements from the set {1, 2, 3, 4, 5}."
      ],
      "metadata": {
        "id": "ChSPVZDtOnca"
      }
    },
    {
      "cell_type": "code",
      "source": [
        "my_set = {1, 2, 3, 4, 5}\n",
        "my_set.clear()\n",
        "print(my_set)\n"
      ],
      "metadata": {
        "colab": {
          "base_uri": "https://localhost:8080/"
        },
        "id": "9nAswpIvOolF",
        "outputId": "4f288fdd-4929-497c-eb1d-0fedbead313b"
      },
      "execution_count": 28,
      "outputs": [
        {
          "output_type": "stream",
          "name": "stdout",
          "text": [
            "set()\n"
          ]
        }
      ]
    },
    {
      "cell_type": "markdown",
      "source": [
        "18.  Write a code to remove the element 4 from the set {1, 2, 3, 4}."
      ],
      "metadata": {
        "id": "2m7gw0RiOu3U"
      }
    },
    {
      "cell_type": "code",
      "source": [
        "my_set = {1, 2, 3, 4}\n",
        "my_set.remove(4)\n",
        "print(my_set)\n"
      ],
      "metadata": {
        "colab": {
          "base_uri": "https://localhost:8080/"
        },
        "id": "5WUitp16OyBx",
        "outputId": "346390a3-d683-4a27-a93f-3331570f8ee5"
      },
      "execution_count": 29,
      "outputs": [
        {
          "output_type": "stream",
          "name": "stdout",
          "text": [
            "{1, 2, 3}\n"
          ]
        }
      ]
    },
    {
      "cell_type": "markdown",
      "source": [
        "19. Write a code to find the union of two sets {1, 2, 3} and {3, 4, 5}\n"
      ],
      "metadata": {
        "id": "Mchc_a0tO1xc"
      }
    },
    {
      "cell_type": "code",
      "source": [
        "my_set = {1, 2, 3, 4}\n",
        "my_set.remove(4)\n",
        "print(my_set)\n"
      ],
      "metadata": {
        "colab": {
          "base_uri": "https://localhost:8080/"
        },
        "id": "XnLbHexpO4vK",
        "outputId": "7884a088-c4d2-42c2-b017-485d0d0a4282"
      },
      "execution_count": 30,
      "outputs": [
        {
          "output_type": "stream",
          "name": "stdout",
          "text": [
            "{1, 2, 3}\n"
          ]
        }
      ]
    },
    {
      "cell_type": "markdown",
      "source": [
        "20. Write a code to find the intersection of two sets {1, 2, 3} and {2, 3, 4}"
      ],
      "metadata": {
        "id": "i6N16c_yO9T0"
      }
    },
    {
      "cell_type": "code",
      "source": [
        "set1 = {1, 2, 3}\n",
        "set2 = {2, 3, 4}\n",
        "intersection = set1 & set2\n",
        "print(intersection)\n"
      ],
      "metadata": {
        "colab": {
          "base_uri": "https://localhost:8080/"
        },
        "id": "vOV51ORxO_Yp",
        "outputId": "9ff925fa-f04b-4677-87ad-4521d860da43"
      },
      "execution_count": 31,
      "outputs": [
        {
          "output_type": "stream",
          "name": "stdout",
          "text": [
            "{2, 3}\n"
          ]
        }
      ]
    },
    {
      "cell_type": "markdown",
      "source": [
        "21. Write a code to create a dictionary with the keys \"name\", \"age\", and \"city\", and print it"
      ],
      "metadata": {
        "id": "fJomJBkoPEMN"
      }
    },
    {
      "cell_type": "code",
      "source": [
        "person = {\n",
        "    \"name\": \"Soumeya\",\n",
        "    \"age\": 25,\n",
        "    \"city\": \"Panvel\"\n",
        "}\n",
        "print(person)\n"
      ],
      "metadata": {
        "colab": {
          "base_uri": "https://localhost:8080/"
        },
        "id": "2MrkgCavPHOg",
        "outputId": "e0de7453-9ca7-4338-9ee8-10eb10ab4583"
      },
      "execution_count": 32,
      "outputs": [
        {
          "output_type": "stream",
          "name": "stdout",
          "text": [
            "{'name': 'Soumeya', 'age': 25, 'city': 'Panvel'}\n"
          ]
        }
      ]
    },
    {
      "cell_type": "markdown",
      "source": [
        "22. Write a code to add a new key-value pair \"country\": \"USA\" to the dictionary {'name': 'John', 'age': 25}"
      ],
      "metadata": {
        "id": "juLyKdbRPM60"
      }
    },
    {
      "cell_type": "code",
      "source": [
        "person = {'name': 'John', 'age': 25}\n",
        "person['country'] = 'USA'\n",
        "print(person)\n"
      ],
      "metadata": {
        "colab": {
          "base_uri": "https://localhost:8080/"
        },
        "id": "wbMDl28UPPbF",
        "outputId": "c766df60-bc3a-405f-8a36-c05e200cdf68"
      },
      "execution_count": 33,
      "outputs": [
        {
          "output_type": "stream",
          "name": "stdout",
          "text": [
            "{'name': 'John', 'age': 25, 'country': 'USA'}\n"
          ]
        }
      ]
    },
    {
      "cell_type": "markdown",
      "source": [
        "23. Write a code to access the value associated with the key \"name\" in the dictionary {'name': 'Alice', 'age': 30}"
      ],
      "metadata": {
        "id": "H9glgwv3PTPw"
      }
    },
    {
      "cell_type": "code",
      "source": [
        "person = {'name': 'Alice', 'age': 30}\n",
        "print(person['name'])\n"
      ],
      "metadata": {
        "colab": {
          "base_uri": "https://localhost:8080/"
        },
        "id": "Flyp6PVqPWBN",
        "outputId": "41e33364-17e2-4d27-c03f-fc813d0466d8"
      },
      "execution_count": 34,
      "outputs": [
        {
          "output_type": "stream",
          "name": "stdout",
          "text": [
            "Alice\n"
          ]
        }
      ]
    },
    {
      "cell_type": "code",
      "source": [
        "24. Write a code to remove the key \"age\" from the dictionary {'name': 'Bob', 'age': 22, 'city': 'New York'}.\n"
      ],
      "metadata": {
        "id": "YlnSv2PPPKWl"
      },
      "execution_count": null,
      "outputs": []
    },
    {
      "cell_type": "code",
      "source": [
        "person = {'name': 'Bob', 'age': 22, 'city': 'New York'}\n",
        "del person['age']\n",
        "print(person)\n"
      ],
      "metadata": {
        "colab": {
          "base_uri": "https://localhost:8080/"
        },
        "id": "m8q6RntePcI1",
        "outputId": "194da51c-711d-4dc6-9094-82c128f099f1"
      },
      "execution_count": 35,
      "outputs": [
        {
          "output_type": "stream",
          "name": "stdout",
          "text": [
            "{'name': 'Bob', 'city': 'New York'}\n"
          ]
        }
      ]
    },
    {
      "cell_type": "code",
      "source": [
        "25. Write a code to check if the key \"city\" exists in the dictionary {'name': 'Alice', 'city': 'Paris'}."
      ],
      "metadata": {
        "id": "1PrznIX7Pe9k"
      },
      "execution_count": null,
      "outputs": []
    },
    {
      "cell_type": "code",
      "source": [
        "person = {'name': 'Alice', 'city': 'Paris'}\n",
        "if 'city' in person:\n",
        "    print(\"Key 'city' exists in the dictionary.\")\n",
        "else:\n",
        "    print(\"Key 'city' does not exist.\")\n"
      ],
      "metadata": {
        "colab": {
          "base_uri": "https://localhost:8080/"
        },
        "id": "QeZwg8j1PpNI",
        "outputId": "7e59d013-1ccd-4b75-e5ef-55f507ee058f"
      },
      "execution_count": 36,
      "outputs": [
        {
          "output_type": "stream",
          "name": "stdout",
          "text": [
            "Key 'city' exists in the dictionary.\n"
          ]
        }
      ]
    },
    {
      "cell_type": "code",
      "source": [
        "26. Write a code to create a list, a tuple, and a dictionary, and print them all."
      ],
      "metadata": {
        "id": "Nr_wfZnOPq_n"
      },
      "execution_count": null,
      "outputs": []
    },
    {
      "cell_type": "code",
      "source": [
        "# Creating a list\n",
        "my_list = [1, 2, 3]\n",
        "\n",
        "# Creating a tuple\n",
        "my_tuple = ('apple', 'banana', 'cherry')\n",
        "\n",
        "# Creating a dictionary\n",
        "my_dict = {'name': 'Soumeya', 'age': 25, 'city': 'Panvel'}\n",
        "\n",
        "# Printing them all\n",
        "print(\"List:\", my_list)\n",
        "print(\"Tuple:\", my_tuple)\n",
        "print(\"Dictionary:\", my_dict)\n"
      ],
      "metadata": {
        "colab": {
          "base_uri": "https://localhost:8080/"
        },
        "id": "UAOIIweJPvgp",
        "outputId": "7aac761f-c42d-4b95-daa7-80952b825e8d"
      },
      "execution_count": 37,
      "outputs": [
        {
          "output_type": "stream",
          "name": "stdout",
          "text": [
            "List: [1, 2, 3]\n",
            "Tuple: ('apple', 'banana', 'cherry')\n",
            "Dictionary: {'name': 'Soumeya', 'age': 25, 'city': 'Panvel'}\n"
          ]
        }
      ]
    },
    {
      "cell_type": "markdown",
      "source": [
        "27. Write a code to create a list of 5 random numbers between 1 and 100, sort it in ascending order, and print the result.(replaced)"
      ],
      "metadata": {
        "id": "AStuCyDGP353"
      }
    },
    {
      "cell_type": "code",
      "source": [
        "import random\n",
        "\n",
        "# Create a list of 5 random numbers between 1 and 100\n",
        "random_numbers = random.sample(range(1, 101), 5)\n",
        "\n",
        "# Sort the list in ascending order\n",
        "random_numbers.sort()\n",
        "\n",
        "# Print the result\n",
        "print(random_numbers)\n"
      ],
      "metadata": {
        "colab": {
          "base_uri": "https://localhost:8080/"
        },
        "id": "dXMS7_HKQFi9",
        "outputId": "e1c50480-6c19-40a6-a1ec-3263353000e9"
      },
      "execution_count": 38,
      "outputs": [
        {
          "output_type": "stream",
          "name": "stdout",
          "text": [
            "[16, 22, 29, 48, 82]\n"
          ]
        }
      ]
    },
    {
      "cell_type": "markdown",
      "source": [
        "28. Write a code to create a list with strings and print the element at the third index"
      ],
      "metadata": {
        "id": "ejYJtEcDQIVP"
      }
    },
    {
      "cell_type": "code",
      "source": [
        "my_list = ['apple', 'banana', 'cherry', 'date', 'elderberry']\n",
        "print(my_list[3])\n"
      ],
      "metadata": {
        "colab": {
          "base_uri": "https://localhost:8080/"
        },
        "id": "PqrcV9iuQK_d",
        "outputId": "5fafee69-4d75-4df2-8d5a-166513cc907a"
      },
      "execution_count": 39,
      "outputs": [
        {
          "output_type": "stream",
          "name": "stdout",
          "text": [
            "date\n"
          ]
        }
      ]
    },
    {
      "cell_type": "markdown",
      "source": [
        "29.  Write a code to combine two dictionaries into one and print the result"
      ],
      "metadata": {
        "id": "jzzx9NMRQR7s"
      }
    },
    {
      "cell_type": "code",
      "source": [
        "dict1 = {'name': 'Soumeya', 'age': 25}\n",
        "dict2 = {'city': 'Panvel', 'country': 'India'}\n",
        "\n",
        "# Combine the dictionaries\n",
        "combined_dict = {**dict1, **dict2}\n",
        "\n",
        "# Print the result\n",
        "print(combined_dict)\n"
      ],
      "metadata": {
        "colab": {
          "base_uri": "https://localhost:8080/"
        },
        "id": "KwI1jiLYQWft",
        "outputId": "5a5637c2-eb52-4201-da41-529050103be2"
      },
      "execution_count": 40,
      "outputs": [
        {
          "output_type": "stream",
          "name": "stdout",
          "text": [
            "{'name': 'Soumeya', 'age': 25, 'city': 'Panvel', 'country': 'India'}\n"
          ]
        }
      ]
    },
    {
      "cell_type": "markdown",
      "source": [
        "30. Write a code to convert a list of strings into a set"
      ],
      "metadata": {
        "id": "KPqwh4c7QamY"
      }
    },
    {
      "cell_type": "code",
      "source": [
        "my_list = ['apple', 'banana', 'cherry', 'apple']\n",
        "my_set = set(my_list)\n",
        "print(my_set)\n"
      ],
      "metadata": {
        "colab": {
          "base_uri": "https://localhost:8080/"
        },
        "id": "vEzSwpanQcux",
        "outputId": "9235b024-19d3-41de-d074-a047e95a61a5"
      },
      "execution_count": 41,
      "outputs": [
        {
          "output_type": "stream",
          "name": "stdout",
          "text": [
            "{'apple', 'cherry', 'banana'}\n"
          ]
        }
      ]
    },
    {
      "cell_type": "code",
      "source": [],
      "metadata": {
        "id": "INffjx9HQR13"
      },
      "execution_count": null,
      "outputs": []
    },
    {
      "cell_type": "code",
      "source": [],
      "metadata": {
        "id": "jjA4YddoQIIm"
      },
      "execution_count": null,
      "outputs": []
    },
    {
      "cell_type": "code",
      "source": [],
      "metadata": {
        "id": "EfOsRJ7hPzC9"
      },
      "execution_count": null,
      "outputs": []
    }
  ]
}