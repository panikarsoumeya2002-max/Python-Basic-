{
 "cells": [
  {
   "cell_type": "code",
   "execution_count": 5,
   "id": "f1e8f905",
   "metadata": {},
   "outputs": [
    {
     "name": "stdout",
     "output_type": "stream",
     "text": [
      "hello world\n"
     ]
    }
   ],
   "source": [
    "#  Write a Python program to print \"Hello, World\"\n",
    "print('hello world')"
   ]
  },
  {
   "cell_type": "code",
   "execution_count": 6,
   "id": "2b2d5298",
   "metadata": {},
   "outputs": [
    {
     "name": "stdout",
     "output_type": "stream",
     "text": [
      "Name: soumeya\n",
      "Age: 23\n"
     ]
    }
   ],
   "source": [
    "#  Write a Python program that displays your name and age\n",
    "name = \"soumeya\"\n",
    "age = 23 \n",
    "\n",
    "# Display the information\n",
    "print(\"Name:\", name)\n",
    "print(\"Age:\", age)"
   ]
  },
  {
   "cell_type": "code",
   "execution_count": 7,
   "id": "110a97a3",
   "metadata": {},
   "outputs": [
    {
     "name": "stdout",
     "output_type": "stream",
     "text": [
      "\n",
      "Here is a list of the Python keywords.  Enter any keyword to get more help.\n",
      "\n",
      "False               class               from                or\n",
      "None                continue            global              pass\n",
      "True                def                 if                  raise\n",
      "and                 del                 import              return\n",
      "as                  elif                in                  try\n",
      "assert              else                is                  while\n",
      "async               except              lambda              with\n",
      "await               finally             nonlocal            yield\n",
      "break               for                 not                 \n",
      "\n"
     ]
    }
   ],
   "source": [
    "# Write code to print all the pre-defined keywords in Python using the keyword library\n",
    "help('keywords')"
   ]
  },
  {
   "cell_type": "code",
   "execution_count": 3,
   "id": "1aafbbe9",
   "metadata": {},
   "outputs": [
    {
     "name": "stdout",
     "output_type": "stream",
     "text": [
      "'for' is a Python keyword.\n"
     ]
    }
   ],
   "source": [
    "# Write a program that checks if a given word is a Python keyword.\n",
    "\n",
    "user_input = input(\"Enter a word to check if it's a Python keyword: \")\n",
    "if is_python_keyword(user_input):\n",
    "    print(f\"'{user_input}' is a Python keyword.\")\n",
    "else:\n",
    "    print(f\"'{user_input}' is NOT a Python keyword.\")\n"
   ]
  },
  {
   "cell_type": "code",
   "execution_count": 3,
   "id": "46e97ff3",
   "metadata": {},
   "outputs": [
    {
     "name": "stdout",
     "output_type": "stream",
     "text": [
      "Modified list: [10, 99, 30]\n"
     ]
    },
    {
     "ename": "TypeError",
     "evalue": "'tuple' object does not support item assignment",
     "output_type": "error",
     "traceback": [
      "\u001b[31m---------------------------------------------------------------------------\u001b[39m",
      "\u001b[31mTypeError\u001b[39m                                 Traceback (most recent call last)",
      "\u001b[36mCell\u001b[39m\u001b[36m \u001b[39m\u001b[32mIn[3]\u001b[39m\u001b[32m, line 9\u001b[39m\n\u001b[32m      6\u001b[39m my_list[\u001b[32m1\u001b[39m] = \u001b[32m99\u001b[39m\n\u001b[32m      7\u001b[39m \u001b[38;5;28mprint\u001b[39m(\u001b[33m\"\u001b[39m\u001b[33mModified list:\u001b[39m\u001b[33m\"\u001b[39m, my_list)\n\u001b[32m----> \u001b[39m\u001b[32m9\u001b[39m \u001b[43mmy_tuple\u001b[49m\u001b[43m[\u001b[49m\u001b[32;43m1\u001b[39;49m\u001b[43m]\u001b[49m = \u001b[32m99\u001b[39m  \n",
      "\u001b[31mTypeError\u001b[39m: 'tuple' object does not support item assignment"
     ]
    }
   ],
   "source": [
    "# Create a list and tuple in Python, and demonstrate how attempting to change an element works differently for each.\n",
    "\n",
    "my_list = [10, 20, 30]\n",
    "my_tuple = (10, 20, 30)\n",
    "\n",
    "my_list[1] = 99\n",
    "print(\"Modified list:\", my_list)\n",
    "\n",
    "my_tuple[1] = 99  "
   ]
  },
  {
   "cell_type": "code",
   "execution_count": 4,
   "id": "544ea7ff",
   "metadata": {},
   "outputs": [
    {
     "name": "stdout",
     "output_type": "stream",
     "text": [
      "Before function call:\n",
      "x: 5\n",
      "y: [1, 2, 3]\n",
      "Inside function before modification:\n",
      "Immutable: 5\n",
      "Mutable: [1, 2, 3]\n",
      "Inside function after modification:\n",
      "Immutable: 15\n",
      "Mutable: [1, 2, 3, 4]\n",
      "After function call:\n",
      "x: 5\n",
      "y: [1, 2, 3, 4]\n"
     ]
    }
   ],
   "source": [
    "#  Write a function to demonstrate the behavior of mutable and immutable arguments\n",
    "\n",
    "def modify_arguments(immutable_arg, mutable_arg):\n",
    "    print(\"Inside function before modification:\")\n",
    "    print(\"Immutable:\", immutable_arg)\n",
    "    print(\"Mutable:\", mutable_arg)\n",
    "\n",
    "    # Attempt to modify both arguments\n",
    "    immutable_arg += 10\n",
    "    mutable_arg.append(4)\n",
    "\n",
    "    print(\"Inside function after modification:\")\n",
    "    print(\"Immutable:\", immutable_arg)\n",
    "    print(\"Mutable:\", mutable_arg)\n",
    "\n",
    "# Immutable argument: integer\n",
    "x = 5\n",
    "\n",
    "# Mutable argument: list\n",
    "y = [1, 2, 3]\n",
    "\n",
    "print(\"Before function call:\")\n",
    "print(\"x:\", x)\n",
    "print(\"y:\", y)\n",
    "\n",
    "modify_arguments(x, y)\n",
    "\n",
    "print(\"After function call:\")\n",
    "print(\"x:\", x)  # x remains unchanged\n",
    "print(\"y:\", y)  # y is modified\n"
   ]
  },
  {
   "cell_type": "code",
   "execution_count": null,
   "id": "aea33f91",
   "metadata": {},
   "outputs": [
    {
     "name": "stdout",
     "output_type": "stream",
     "text": [
      "\n",
      "Results:\n",
      "Addition: 10.0 + 34.0 = 44.0\n",
      "Subtraction: 10.0 - 34.0 = -24.0\n",
      "Multiplication: 10.0 * 34.0 = 340.0\n",
      "Division: 10.0 / 34.0 = 0.29411764705882354\n"
     ]
    }
   ],
   "source": [
    "# Write a program that performs basic arithmetic operations on two user-input numbers.\n",
    "\n",
    "num1 = float(input(\"Enter the first number: \"))\n",
    "num2 = float(input(\"Enter the second number: \"))\n",
    "\n",
    "# Perform operations\n",
    "print(\"\\nResults:\")\n",
    "print(f\"Addition: {num1} + {num2} = {num1 + num2}\")\n",
    "print(f\"Subtraction: {num1} - {num2} = {num1 - num2}\")\n",
    "print(f\"Multiplication: {num1} * {num2} = {num1 * num2}\")\n",
    "\n",
    "# Handle division by zero\n",
    "if num2 != 0:\n",
    "    print(f\"Division: {num1} / {num2} = {num1 / num2}\")\n",
    "else:\n",
    "    print(\"Division: Cannot divide by zero.\")\n"
   ]
  },
  {
   "cell_type": "code",
   "execution_count": 8,
   "id": "3618cb5c",
   "metadata": {},
   "outputs": [
    {
     "name": "stdout",
     "output_type": "stream",
     "text": [
      "a and b = False\n",
      "a or b = True\n",
      "not a = False\n",
      "not b = True\n"
     ]
    }
   ],
   "source": [
    "# Write a program to demonstrate the use of logical operators\n",
    "\n",
    "a = True\n",
    "b = False\n",
    "\n",
    "# Demonstrate 'and' operator\n",
    "print(\"a and b =\", a and b)  # False because both are not True\n",
    "\n",
    "# Demonstrate 'or' operator\n",
    "print(\"a or b =\", a or b)    # True because at least one is True\n",
    "\n",
    "# Demonstrate 'not' operator\n",
    "print(\"not a =\", not a)      # False because a is True\n",
    "print(\"not b =\", not b)      # True because b is False\n",
    "\n",
    "# Combine logical"
   ]
  },
  {
   "cell_type": "code",
   "execution_count": 9,
   "id": "27a5b016",
   "metadata": {},
   "outputs": [
    {
     "name": "stdout",
     "output_type": "stream",
     "text": [
      "Cannot convert to integer.\n",
      "Cannot convert to float.\n",
      "Boolean conversion: True\n"
     ]
    }
   ],
   "source": [
    " # Write a Python program to convert user input from string to integer, float, and boolean types.\n",
    "\n",
    "# Get user input as a string\n",
    "user_input = input(\"Enter a value: \")\n",
    "\n",
    "# Convert to integer\n",
    "try:\n",
    "    int_value = int(user_input)\n",
    "    print(f\"Integer conversion: {int_value}\")\n",
    "except ValueError:\n",
    "    print(\"Cannot convert to integer.\")\n",
    "\n",
    "# Convert to float\n",
    "try:\n",
    "    float_value = float(user_input)\n",
    "    print(f\"Float conversion: {float_value}\")\n",
    "except ValueError:\n",
    "    print(\"Cannot convert to float.\")\n",
    "\n",
    "# Convert to boolean\n",
    "# Any non-empty string except \"False\", \"false\", \"0\", or \"\" is considered True\n",
    "bool_value = user_input.lower() not in [\"false\", \"0\", \"\"]\n",
    "print(f\"Boolean conversion: {bool_value}\")\n",
    "\n",
    "\n"
   ]
  },
  {
   "cell_type": "code",
   "execution_count": 10,
   "id": "98ecf619",
   "metadata": {},
   "outputs": [
    {
     "name": "stdout",
     "output_type": "stream",
     "text": [
      "String to Integer: [1, 2, 3, 4, 5]\n",
      "Integer to Float: [1.0, 2.0, 3.0, 4.0, 5.0]\n",
      "Float to String: ['1.0', '2.0', '3.0', '4.0', '5.0']\n",
      "Integer to Boolean: [True, True, True, True, True]\n",
      "Boolean to Integer: [1, 1, 1, 1, 1]\n"
     ]
    }
   ],
   "source": [
    "# Write code to demonstrate type casting with list elements.\n",
    "\n",
    "# Original list with mixed types as strings\n",
    "str_numbers = ['1', '2', '3', '4', '5']\n",
    "\n",
    "# Convert string elements to integers\n",
    "int_numbers = [int(num) for num in str_numbers]\n",
    "print(\"String to Integer:\", int_numbers)\n",
    "\n",
    "# Convert integers to floats\n",
    "float_numbers = [float(num) for num in int_numbers]\n",
    "print(\"Integer to Float:\", float_numbers)\n",
    "\n",
    "# Convert floats to strings\n",
    "str_floats = [str(num) for num in float_numbers]\n",
    "print(\"Float to String:\", str_floats)\n",
    "\n",
    "# Convert integers to booleans\n",
    "bool_values = [bool(num) for num in int_numbers]\n",
    "print(\"Integer to Boolean:\", bool_values)\n",
    "\n",
    "# Convert boolean values back to integers\n",
    "int_from_bool = [int(val) for val in bool_values]\n",
    "print(\"Boolean to Integer:\", int_from_bool)\n"
   ]
  },
  {
   "cell_type": "code",
   "execution_count": 12,
   "id": "1bd5671d",
   "metadata": {},
   "outputs": [
    {
     "name": "stdout",
     "output_type": "stream",
     "text": [
      "The number is positive.\n"
     ]
    }
   ],
   "source": [
    "# Write a program that checks if a number is positive, negative, or zero.\n",
    "\n",
    "num = 5\n",
    "\n",
    "# Check the condition\n",
    "if num > 0:\n",
    "    print(\"The number is positive.\")\n",
    "elif num < 0:\n",
    "    print(\"The number is negative.\")\n",
    "else:\n",
    "    print(\"The number is zero.\")\n"
   ]
  },
  {
   "cell_type": "code",
   "execution_count": 13,
   "id": "36f1a98e",
   "metadata": {},
   "outputs": [
    {
     "name": "stdout",
     "output_type": "stream",
     "text": [
      "1\n",
      "2\n",
      "3\n",
      "4\n",
      "5\n",
      "6\n",
      "7\n",
      "8\n",
      "9\n",
      "10\n"
     ]
    }
   ],
   "source": [
    "#  Write a for loop to print numbers from 1 to 10.\n",
    "\n",
    "for i in range(1, 11):\n",
    "    print(i)\n"
   ]
  },
  {
   "cell_type": "code",
   "execution_count": 15,
   "id": "fb3587a5",
   "metadata": {},
   "outputs": [
    {
     "name": "stdout",
     "output_type": "stream",
     "text": [
      "Sum of even numbers from 1 to 50 is: 650\n"
     ]
    }
   ],
   "source": [
    "#  Write a Python program to find the sum of all even numbers between 1 and 50.\n",
    "\n",
    "total = 0\n",
    "\n",
    "# Loop through numbers from 1 to 50\n",
    "for number in range(1, 51):\n",
    "    if number % 2 == 0:\n",
    "        total += number\n",
    "\n",
    "# Print the result\n",
    "print(\"Sum of even numbers from 1 to 50 is:\", total)\n"
   ]
  },
  {
   "cell_type": "code",
   "execution_count": null,
   "id": "27576eca",
   "metadata": {},
   "outputs": [
    {
     "name": "stdout",
     "output_type": "stream",
     "text": [
      "Reversed string: !dlroW ,olleH\n"
     ]
    }
   ],
   "source": [
    "# Write a program to reverse a string using a while loop.\n",
    "\n",
    "text = \"Hello, World!\"\n",
    "\n",
    "reversed_text = \"\"\n",
    "index = len(text) - 1\n",
    "\n",
    "# Use while loop to reverse the string\n",
    "while index >= 0:\n",
    "    reversed_text += text[index]\n",
    "    index -= 1\n",
    "\n",
    "# Print the reversed string\n",
    "print(\"Reversed string:\", reversed_text)\n"
   ]
  },
  {
   "cell_type": "code",
   "execution_count": 20,
   "id": "0bd81a83",
   "metadata": {},
   "outputs": [
    {
     "name": "stdout",
     "output_type": "stream",
     "text": [
      "Factorial of 35 is 10333147966386144929666651337523200000000\n"
     ]
    }
   ],
   "source": [
    "#  Write a Python program to calculate the factorial of a number provided by the user using a while loop.\n",
    "\n",
    "# Get input from the user\n",
    "num = int(input(\"Enter a number to calculate its factorial: \"))\n",
    "\n",
    "# Initialize variables\n",
    "factorial = 1\n",
    "i = 1\n",
    "\n",
    "# Use while loop to calculate factorial\n",
    "while i <= num:\n",
    "    factorial *= i\n",
    "    i += 1\n",
    "\n",
    "# Display the result\n",
    "print(f\"Factorial of {num} is {factorial}\")\n"
   ]
  },
  {
   "cell_type": "code",
   "execution_count": null,
   "id": "24327a54",
   "metadata": {},
   "outputs": [],
   "source": []
  }
 ],
 "metadata": {
  "kernelspec": {
   "display_name": "Python 3",
   "language": "python",
   "name": "python3"
  },
  "language_info": {
   "codemirror_mode": {
    "name": "ipython",
    "version": 3
   },
   "file_extension": ".py",
   "mimetype": "text/x-python",
   "name": "python",
   "nbconvert_exporter": "python",
   "pygments_lexer": "ipython3",
   "version": "3.13.7"
  }
 },
 "nbformat": 4,
 "nbformat_minor": 5
}
