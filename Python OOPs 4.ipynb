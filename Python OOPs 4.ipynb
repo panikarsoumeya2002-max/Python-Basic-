{
  "nbformat": 4,
  "nbformat_minor": 0,
  "metadata": {
    "colab": {
      "provenance": []
    },
    "kernelspec": {
      "name": "python3",
      "display_name": "Python 3"
    },
    "language_info": {
      "name": "python"
    }
  },
  "cells": [
    {
      "cell_type": "markdown",
      "source": [
        "1.  What is Object-Oriented Programming (OOP)?\n",
        "\n",
        "Answer Object-Oriented Programming (OOP) is a way of writing code where you organize it around objects — like mini-programs that contain both data and actions.\n",
        "\n",
        "Example: Instead of just writing functions and variables, you group them into objects that represent real-world things.\n",
        "\n",
        "Key concepts:\n",
        "Class: A blueprint for creating objects (like a recipe).\n",
        "Object: A specific instance of a class (like a cake made from the recipe).\n",
        "Attributes: Data stored in an object.\n",
        "Methods: Actions the object can perform.\n",
        "\n",
        "2. What is a class in OOP?\n",
        "\n",
        "Answer A class in Object-Oriented Programming is like a blueprint for creating objects.\n",
        "\n",
        "Example: It defines what an object should know (its data) and what it can do (its actions).\n",
        "\n",
        "3.  What is an object in OOP?\n",
        "\n",
        "Answer An object in Object-Oriented Programming is a thing made from a class.\n",
        "\n",
        "Example: If a class is a blueprint, an object is the real item built from it.\n",
        "\n",
        "It holds:\n",
        "Data (called attributes)\n",
        "Actions (called methods)\n",
        "\n",
        "4. What is the difference between abstraction and encapsulation?\n",
        "\n",
        "Answer\n",
        "Abstraction = Hiding the complex stuff and showing only what’s needed\n",
        "Focuses on what an object does, not how it does it.\n",
        "Example: You press a button to start a car — you don’t need to know how the engine works.\n",
        "\n",
        "Encapsulation = Wrapping data and code together and protecting it\n",
        "Keeps the internal details safe and private.\n",
        "Example: A car’s engine is hidden inside — you can’t mess with it directly.\n",
        "\n",
        "In short:\n",
        "Abstraction hides complexity.\n",
        "Encapsulation hides data.\n",
        "\n",
        "5.  What are dunder methods in Python?\n",
        "\n",
        "Answer Dunder methods in Python are special methods with double underscores before and after their names — like __init__, __str__, or __len__.\n",
        "\n",
        "\"Dunder\" = Double UNDerscore\n",
        "They let you define how your objects behave with built-in functions and operators.\n",
        "\n",
        "6. Explain the concept of inheritance in OOP.\n",
        "\n",
        "Answer Inheritance in Object-Oriented Programming means one class can get features from another class.\n",
        "\n",
        "Example: A child class inherits data and methods from a parent class — like a kid getting traits from their parents.\n",
        "\n",
        "7. What is polymorphism in OOP?\n",
        "\n",
        "Answer Polymorphism in Object-Oriented Programming means one function or method can work in different ways depending on the object that uses it.\n",
        "\n",
        "8. How is encapsulation achieved in Python?\n",
        "\n",
        "Answer Encapsulation in Python is achieved by hiding data inside a class and controlling access to it.\n",
        "\n",
        "Example: Keep variables private and use methods to get or change them safely.\n",
        "\n",
        "9. What is a constructor in Python?\n",
        "\n",
        "Answer A constructor in Python is a special method used to create and set up an object when a class is called.\n",
        "\n",
        "Example: It runs automatically when you make a new object and sets the initial values.\n",
        "The constructor method is called __init__.\n",
        "\n",
        "10. What are class and static methods in Python?\n",
        "\n",
        "Answer\n",
        "\n",
        "In Python, class methods and static methods are two special types of methods that belong to a class — but they behave differently.\n",
        "\n",
        "Class Method\n",
        "Works with the class itself, not just objects.\n",
        "First parameter is always cls (refers to the class).\n",
        "Defined using @classmethod.\n",
        "\n",
        "Static Method\n",
        "Doesn’t use self or cls.\n",
        "Acts like a regular function inside a class.\n",
        "Defined using @staticmethod.\n",
        "\n",
        "11.  What is method overloading in Python?\n",
        "\n",
        "Answer Method overloading in Python means having multiple methods with the same name but different parameters.\n",
        "\n",
        "Example: You want one method name to do different things depending on how it's called.\n",
        "\n",
        "BUT — Python doesn’t support true method overloading like some other languages (e.g., Java). Instead, you use default arguments or *args to simulate it.\n",
        "\n",
        "12. What is method overriding in OOP?\n",
        "\n",
        "Answer Method overriding in Object-Oriented Programming means a child class provides its own version of a method that already exists in the parent class.\n",
        "\n",
        "Example: The child says, “I’ll do it my way.”\n",
        "\n",
        "13.  What is a property decorator in Python?\n",
        "\n",
        "Answer A property decorator in Python is used to turn a method into a read-only attribute — so you can access it like a variable, but it runs code behind the scenes.\n",
        "\n",
        "Example: It lets you use a method without parentheses, like accessing a value.\n",
        "Decorator used: @property\n",
        "\n",
        "14.  Why is polymorphism important in OOP?\n",
        "\n",
        "Answer\n",
        "Polymorphism is important in Object-Oriented Programming because it makes your code more flexible, reusable, and easy to maintain.\n",
        "\n",
        "Example: It lets you use the same method name across different classes, and each class can do its own thing.\n",
        "\n",
        "Why it matters:\n",
        "Code simplicity: You can write one function that works with many types of objects.\n",
        "\n",
        "Reusability: You don’t need to rewrite code for each class.\n",
        "Extensibility: You can add new classes without changing existing code.\n",
        "Cleaner logic: You avoid long if-else or switch statements.\n",
        "\n",
        "15. What is an abstract class in Python?\n",
        "\n",
        "Answer An abstract class in Python is a class that can’t be used directly — it’s meant to be a base for other classes.\n",
        "\n",
        "Simple idea: It defines what should be done, but not how — like a rulebook.\n",
        "You use the abc module and decorate methods with @abstractmethod.\n",
        "\n",
        "16.  What are the advantages of OOP?\n",
        "\n",
        "Answer\n",
        "\n",
        "Object-Oriented Programming (OOP) offers several powerful advantages that make coding easier, cleaner, and more scalable — especially for big projects.\n",
        "\n",
        "Key Advantages of OOP\n",
        "Modularity: Code is organized into classes and objects, making it easier to manage and understand.\n",
        "Reusability: You can reuse classes across different programs or parts of the same program using inheritance.\n",
        "Encapsulation: Keeps data safe by hiding internal details and exposing only what’s needed.\n",
        "Polymorphism: Lets you use the same method name for different types of objects, making your code flexible.\n",
        "Abstraction: Focuses on what an object does, not how it does it — hiding complexity and showing only essentials.\n",
        "Easy Maintenance: Changes in one part of the code don’t affect others as much, thanks to modular design.\n",
        "Scalability: OOP makes it easier to grow your program as your needs expand.\n",
        "\n",
        "17.  What is the difference between a class variable and an instance variable?\n",
        "\n",
        "Answer\n",
        "\n",
        "Class Variable\n",
        "Shared by all objects of the class.\n",
        "Defined outside any method, usually at the top of the class.\n",
        "Changes affect every instance.\n",
        "\n",
        "Instance Variable\n",
        "Unique to each object.\n",
        "Defined using self inside methods like __init__.\n",
        "Changes affect only that object.\n",
        "\n",
        "18. What is multiple inheritance in Python?\n",
        "\n",
        "Answer Multiple inheritance in Python means a class can inherit from more than one parent class.\n",
        "Simple idea: A child class gets features (methods and attributes) from multiple classes.\n",
        "\n",
        "19. Explain the purpose of ‘’__str__’ and ‘__repr__’ ‘ methods in Python.\n",
        "\n",
        "Answer\n",
        "\n",
        "In Python, __str__ and __repr__ are dunder methods (short for “double underscore”) that control how objects are displayed as strings.\n",
        "\n",
        "__str__ → For humans\n",
        "Used when you call print() on an object.\n",
        "Should return a nice, readable description.\n",
        "\n",
        "→ For developers\n",
        "Used in debugging, logs, or the Python shell.\n",
        "Should return a precise, unambiguous string that could recreate the object.\n",
        "\n",
        "20.  What is the significance of the ‘super()’ function in Python?\n",
        "\n",
        "Answer The super() function in Python is used to call methods from a parent class — especially useful when you're working with inheritance.\n",
        "Example: It helps a child class reuse code from its parent without rewriting it.\n",
        "\n",
        "21.  What is the significance of the __del__ method in Python?\n",
        "\n",
        "Answer The __del__ method in Python is called a destructor — it runs automatically when an object is about to be destroyed.\n",
        "\n",
        "Example: It’s used to clean up — like closing files or releasing resources — when an object is no longer needed.\n",
        "\n",
        "\n",
        "22. What is the difference between @staticmethod and @classmethod in Python?\n",
        "\n",
        "Answer\n",
        "\n",
        "@staticmethod\n",
        "Doesn’t use self or cls.\n",
        "Acts like a regular function inside a class.\n",
        "Can’t access class or instance data.\n",
        "Used for utility methods that don’t depend on the class.\n",
        "\n",
        "@classmethod\n",
        "Uses cls as the first parameter.\n",
        "Can access and modify class-level data.\n",
        "Used when you need to work with the class itself.\n",
        "\n",
        "23. How does polymorphism work in Python with inheritance?\n",
        "\n",
        "Answer Polymorphism in Python with inheritance means that child classes can override methods from a parent class, and you can use those methods interchangeably — even if the objects belong to different classes.\n",
        "\n",
        "Example: You write code that works on the parent type, but it behaves differently depending on the child object.\n",
        "\n",
        "24. What is method chaining in Python OOP?\n",
        "\n",
        "Answer Method chaining in Python OOP is a technique where you call multiple methods on the same object in a single line, one after the other.\n",
        "\n",
        "Example: Each method returns the object itself (self), so you can keep calling more methods on it.\n",
        "\n",
        "25. What is the purpose of the __call__ method in Python?\n",
        "\n",
        "Answer The __call__ method in Python lets you make an object behave like a function — meaning you can “call” the object using parentheses.\n",
        "\n",
        "Example: It turns an object into something you can use like object()."
      ],
      "metadata": {
        "id": "jatlzjJxdV6O"
      }
    },
    {
      "cell_type": "markdown",
      "source": [
        "**Partical Questions**\n",
        "\n",
        "1.Create a parent class Animal with a method speak() that prints a generic message. Create a child class Dog\n",
        "that overrides the speak() method to print \"Bark!\".\n"
      ],
      "metadata": {
        "id": "1-N6r9-SkphK"
      }
    },
    {
      "cell_type": "code",
      "execution_count": 2,
      "metadata": {
        "colab": {
          "base_uri": "https://localhost:8080/"
        },
        "id": "0pqQ-DqZdUlb",
        "outputId": "43972c7a-9660-4637-f26e-bf56ad509ec8"
      },
      "outputs": [
        {
          "output_type": "stream",
          "name": "stdout",
          "text": [
            "The animal makes a sound.\n",
            "Bark!\n"
          ]
        }
      ],
      "source": [
        "class Animal:\n",
        "    def speak(self):\n",
        "        print(\"The animal makes a sound.\")\n",
        "\n",
        "class Dog(Animal):\n",
        "    def speak(self):\n",
        "        print(\"Bark!\")\n",
        "\n",
        "# Test it out\n",
        "generic_animal = Animal()\n",
        "generic_animal.speak()\n",
        "\n",
        "doggo = Dog()\n",
        "doggo.speak()\n",
        "\n"
      ]
    },
    {
      "cell_type": "markdown",
      "source": [
        " 2. Write a program to create an abstract class Shape with a method area(). Derive classes Circle and Rectangle\n",
        "from it and implement the area() method in both"
      ],
      "metadata": {
        "id": "610kxWfRk5Qz"
      }
    },
    {
      "cell_type": "code",
      "source": [
        "from abc import ABC, abstractmethod\n",
        "import math\n",
        "\n",
        "# Abstract base class\n",
        "class Shape(ABC):\n",
        "    @abstractmethod\n",
        "    def area(self):\n",
        "        pass\n",
        "\n",
        "# Circle class\n",
        "class Circle(Shape):\n",
        "    def __init__(self, radius):\n",
        "        self.radius = radius\n",
        "\n",
        "    def area(self):\n",
        "        return math.pi * self.radius ** 2\n",
        "\n",
        "# Rectangle class\n",
        "class Rectangle(Shape):\n",
        "    def __init__(self, width, height):\n",
        "        self.width = width\n",
        "        self.height = height\n",
        "\n",
        "    def area(self):\n",
        "        return self.width * self.height\n",
        "\n",
        "# Test it out\n",
        "c = Circle(5)\n",
        "r = Rectangle(4, 6)\n",
        "\n",
        "print(f\"Circle area: {c.area():.2f}\")\n",
        "print(f\"Rectangle area: {r.area()}\")"
      ],
      "metadata": {
        "colab": {
          "base_uri": "https://localhost:8080/"
        },
        "id": "8GGSuTktkcfC",
        "outputId": "edc7571b-6586-4e3b-f070-4d8a92aab386"
      },
      "execution_count": 3,
      "outputs": [
        {
          "output_type": "stream",
          "name": "stdout",
          "text": [
            "Circle area: 78.54\n",
            "Rectangle area: 24\n"
          ]
        }
      ]
    },
    {
      "cell_type": "markdown",
      "source": [
        " 3. Implement a multi-level inheritance scenario where a class Vehicle has an attribute type. Derive a class Car\n",
        "and further derive a class ElectricCar that adds a battery attribute."
      ],
      "metadata": {
        "id": "4Obvz0NPlFd6"
      }
    },
    {
      "cell_type": "code",
      "source": [
        "# Base class\n",
        "class Vehicle:\n",
        "    def __init__(self, vehicle_type):\n",
        "        self.type = vehicle_type\n",
        "\n",
        "# First-level derived class\n",
        "class Car(Vehicle):\n",
        "    def __init__(self, vehicle_type, brand):\n",
        "        super().__init__(vehicle_type)\n",
        "        self.brand = brand\n",
        "\n",
        "# Second-level derived class\n",
        "class ElectricCar(Car):\n",
        "    def __init__(self, vehicle_type, brand, battery_capacity):\n",
        "        super().__init__(vehicle_type, brand)\n",
        "        self.battery = battery_capacity\n",
        "\n",
        "# Test it out\n",
        "tesla = ElectricCar(\"Electric\", \"Tesla\", \"75 kWh\")\n",
        "\n",
        "print(f\"Type: {tesla.type}\")\n",
        "print(f\"Brand: {tesla.brand}\")\n",
        "print(f\"Battery: {tesla.battery}\")\n"
      ],
      "metadata": {
        "colab": {
          "base_uri": "https://localhost:8080/"
        },
        "id": "uFO9rHlTlHF4",
        "outputId": "5c1e54fd-82e7-49e2-b354-f7df1c997bab"
      },
      "execution_count": 5,
      "outputs": [
        {
          "output_type": "stream",
          "name": "stdout",
          "text": [
            "Type: Electric\n",
            "Brand: Tesla\n",
            "Battery: 75 kWh\n"
          ]
        }
      ]
    },
    {
      "cell_type": "markdown",
      "source": [
        " 4. Demonstrate polymorphism by creating a base class Bird with a method fly(). Create two derived classes\n",
        "Sparrow and Penguin that override the fly() method."
      ],
      "metadata": {
        "id": "-do1aMIWlRbq"
      }
    },
    {
      "cell_type": "code",
      "source": [
        "# Base class\n",
        "class Bird:\n",
        "    def fly(self):\n",
        "        print(\"This bird can fly.\")\n",
        "\n",
        "# Derived class 1\n",
        "class Sparrow(Bird):\n",
        "    def fly(self):\n",
        "        print(\"Sparrow flies swiftly through the sky.\")\n",
        "\n",
        "# Derived class 2\n",
        "class Penguin(Bird):\n",
        "    def fly(self):\n",
        "        print(\"Penguins can't fly, but they swim like champs!\")\n",
        "\n",
        "# Test it out\n",
        "birds = [Sparrow(), Penguin()]\n",
        "\n",
        "for bird in birds:\n",
        "    bird.fly()\n"
      ],
      "metadata": {
        "colab": {
          "base_uri": "https://localhost:8080/"
        },
        "id": "cm_ouMIHlU5d",
        "outputId": "5de34df0-3b19-4d9d-f340-643f5ea4d3af"
      },
      "execution_count": 6,
      "outputs": [
        {
          "output_type": "stream",
          "name": "stdout",
          "text": [
            "Sparrow flies swiftly through the sky.\n",
            "Penguins can't fly, but they swim like champs!\n"
          ]
        }
      ]
    },
    {
      "cell_type": "markdown",
      "source": [
        "5. Write a program to demonstrate encapsulation by creating a class BankAccount with private attributes\n",
        "balance and methods to deposit, withdraw, and check balance."
      ],
      "metadata": {
        "id": "B8dBBYMClaRM"
      }
    },
    {
      "cell_type": "code",
      "source": [
        "class BankAccount:\n",
        "    def __init__(self, initial_balance=0):\n",
        "        self.__balance = initial_balance  # Private attribute\n",
        "\n",
        "    def deposit(self, amount):\n",
        "        if amount > 0:\n",
        "            self.__balance += amount\n",
        "            print(f\"Deposited ₹{amount}\")\n",
        "        else:\n",
        "            print(\"Deposit amount must be positive.\")\n",
        "\n",
        "    def withdraw(self, amount):\n",
        "        if 0 < amount <= self.__balance:\n",
        "            self.__balance -= amount\n",
        "            print(f\"Withdrew ₹{amount}\")\n",
        "        else:\n",
        "            print(\"Insufficient balance or invalid amount.\")\n",
        "\n",
        "    def check_balance(self):\n",
        "        print(f\"Current balance: ₹{self.__balance}\")\n",
        "\n",
        "# Test it out\n",
        "account = BankAccount(1000)\n",
        "account.check_balance()\n",
        "account.deposit(500)\n",
        "account.withdraw(2000)\n",
        "account.withdraw(300)\n",
        "account.check_balance()\n"
      ],
      "metadata": {
        "colab": {
          "base_uri": "https://localhost:8080/"
        },
        "id": "WLrmFwmmlcaE",
        "outputId": "cc5f3d13-73b0-434f-b108-cca5a3d2b462"
      },
      "execution_count": 7,
      "outputs": [
        {
          "output_type": "stream",
          "name": "stdout",
          "text": [
            "Current balance: ₹1000\n",
            "Deposited ₹500\n",
            "Insufficient balance or invalid amount.\n",
            "Withdrew ₹300\n",
            "Current balance: ₹1200\n"
          ]
        }
      ]
    },
    {
      "cell_type": "markdown",
      "source": [
        " 6. Demonstrate runtime polymorphism using a method play() in a base class Instrument. Derive classes Guitar\n",
        "and Piano that implement their own version of play()."
      ],
      "metadata": {
        "id": "eikks1E_lm2H"
      }
    },
    {
      "cell_type": "code",
      "source": [
        "# Base class\n",
        "class Instrument:\n",
        "    def play(self):\n",
        "        print(\"Playing an instrument.\")\n",
        "\n",
        "# Derived class: Guitar\n",
        "class Guitar(Instrument):\n",
        "    def play(self):\n",
        "        print(\"Strumming the guitar strings.\")\n",
        "\n",
        "# Derived class: Piano\n",
        "class Piano(Instrument):\n",
        "    def play(self):\n",
        "        print(\"Pressing the piano keys.\")\n",
        "\n",
        "# Test it out\n",
        "instruments = [Guitar(), Piano()]\n",
        "\n",
        "for instrument in instruments:\n",
        "    instrument.play()\n"
      ],
      "metadata": {
        "colab": {
          "base_uri": "https://localhost:8080/"
        },
        "id": "3gh9B27xlqkG",
        "outputId": "0cabc087-4127-4b6c-fca1-98162acb419b"
      },
      "execution_count": 10,
      "outputs": [
        {
          "output_type": "stream",
          "name": "stdout",
          "text": [
            "Strumming the guitar strings.\n",
            "Pressing the piano keys.\n"
          ]
        }
      ]
    },
    {
      "cell_type": "markdown",
      "source": [
        " 7. Create a class MathOperations with a class method add_numbers() to add two numbers and a static\n",
        "method subtract_numbers() to subtract two numbers."
      ],
      "metadata": {
        "id": "RKcfLnPplzi3"
      }
    },
    {
      "cell_type": "code",
      "source": [
        "class MathOperations:\n",
        "    @classmethod\n",
        "    def add_numbers(cls, a, b):\n",
        "        return a + b\n",
        "\n",
        "    @staticmethod\n",
        "    def subtract_numbers(a, b):\n",
        "        return a - b\n",
        "\n",
        "# Test it out\n",
        "print(\"Addition:\", MathOperations.add_numbers(10, 5))\n",
        "print(\"Subtraction:\", MathOperations.subtract_numbers(10, 5))\n"
      ],
      "metadata": {
        "colab": {
          "base_uri": "https://localhost:8080/"
        },
        "id": "NkqV706ql1b8",
        "outputId": "5c98d716-2ed3-4eda-ba16-7cea0a1d8345"
      },
      "execution_count": 11,
      "outputs": [
        {
          "output_type": "stream",
          "name": "stdout",
          "text": [
            "Addition: 15\n",
            "Subtraction: 5\n"
          ]
        }
      ]
    },
    {
      "cell_type": "markdown",
      "source": [
        " 8. Implement a class Person with a class method to count the total number of persons created."
      ],
      "metadata": {
        "id": "VE4JaHUGl8CL"
      }
    },
    {
      "cell_type": "code",
      "source": [
        "class Person:\n",
        "    count = 0  # Class variable to track number of persons\n",
        "\n",
        "    def __init__(self, name):\n",
        "        self.name = name\n",
        "        Person.count += 1  # Increment count whenever a new person is created\n",
        "\n",
        "    @classmethod\n",
        "    def total_persons(cls):\n",
        "        return cls.count\n",
        "\n",
        "# Test it out\n",
        "p1 = Person(\"Soumeya\")\n",
        "p2 = Person(\"Ayaan\")\n",
        "p3 = Person(\"Zara\")\n",
        "\n",
        "print(\"Total persons created:\", Person.total_persons())"
      ],
      "metadata": {
        "colab": {
          "base_uri": "https://localhost:8080/"
        },
        "id": "hTXy7BcRl9xW",
        "outputId": "4bf69a25-3519-4fc9-ede9-b7a3fcbbeb01"
      },
      "execution_count": 12,
      "outputs": [
        {
          "output_type": "stream",
          "name": "stdout",
          "text": [
            "Total persons created: 3\n"
          ]
        }
      ]
    },
    {
      "cell_type": "markdown",
      "source": [
        " 9. Write a class Fraction with attributes numerator and denominator. Override the str method to display the\n",
        "fraction as \"numerator/denominator\"."
      ],
      "metadata": {
        "id": "MPt7rymJmHVv"
      }
    },
    {
      "cell_type": "code",
      "source": [
        "class Fraction:\n",
        "    def __init__(self, numerator, denominator):\n",
        "        self.numerator = numerator\n",
        "        self.denominator = denominator\n",
        "\n",
        "    def __str__(self):\n",
        "        return f\"{self.numerator}/{self.denominator}\"\n",
        "\n",
        "# Test it out\n",
        "f = Fraction(3, 4)\n",
        "print(f)\n"
      ],
      "metadata": {
        "colab": {
          "base_uri": "https://localhost:8080/"
        },
        "id": "rMY--RKDlBO5",
        "outputId": "e06399f5-8234-4e76-e21e-5bd11d4e0760"
      },
      "execution_count": 13,
      "outputs": [
        {
          "output_type": "stream",
          "name": "stdout",
          "text": [
            "3/4\n"
          ]
        }
      ]
    },
    {
      "cell_type": "code",
      "source": [
        " 10. Demonstrate operator overloading by creating a class Vector and overriding the add method to add two\n",
        "vectors."
      ],
      "metadata": {
        "id": "67VUEZ3amM8V"
      },
      "execution_count": null,
      "outputs": []
    },
    {
      "cell_type": "code",
      "source": [
        "class Vector:\n",
        "    def __init__(self, x, y):\n",
        "        self.x = x\n",
        "        self.y = y\n",
        "\n",
        "    def __add__(self, other):\n",
        "        return Vector(self.x + other.x, self.y + other.y)\n",
        "\n",
        "    def __str__(self):\n",
        "        return f\"({self.x}, {self.y})\"\n",
        "\n",
        "# Test it out\n",
        "v1 = Vector(2, 3)\n",
        "v2 = Vector(4, 5)\n",
        "v3 = v1 + v2\n",
        "\n",
        "print(\"v1 + v2 =\", v3)\n"
      ],
      "metadata": {
        "colab": {
          "base_uri": "https://localhost:8080/"
        },
        "id": "0bSsDwybmRQJ",
        "outputId": "f85ce756-fd89-446d-9ab9-780bb9a90272"
      },
      "execution_count": 14,
      "outputs": [
        {
          "output_type": "stream",
          "name": "stdout",
          "text": [
            "v1 + v2 = (6, 8)\n"
          ]
        }
      ]
    },
    {
      "cell_type": "markdown",
      "source": [
        "11. Create a class Person with attributes name and age. Add a method greet() that prints \"Hello, my name is\n",
        "{name} and I am {age} years old."
      ],
      "metadata": {
        "id": "DM8-ixhvmW_z"
      }
    },
    {
      "cell_type": "code",
      "source": [
        "class Person:\n",
        "    def __init__(self, name, age):\n",
        "        self.name = name\n",
        "        self.age = age\n",
        "\n",
        "    def greet(self):\n",
        "        print(f\"Hello, my name is {self.name} and I am {self.age} years old.\")\n",
        "\n",
        "# Test it out\n",
        "p = Person(\"Soumeya\", 23)\n",
        "p.greet()\n"
      ],
      "metadata": {
        "colab": {
          "base_uri": "https://localhost:8080/"
        },
        "id": "y-2e0zZamYZ9",
        "outputId": "661a159d-b36a-4e2f-c8b7-5d5d4eec1f91"
      },
      "execution_count": 16,
      "outputs": [
        {
          "output_type": "stream",
          "name": "stdout",
          "text": [
            "Hello, my name is Soumeya and I am 23 years old.\n"
          ]
        }
      ]
    },
    {
      "cell_type": "markdown",
      "source": [
        " 12. Implement a class Student with attributes name and grades. Create a method average_grade() to compute\n",
        "the average of the grades."
      ],
      "metadata": {
        "id": "LVGyUORjmh9k"
      }
    },
    {
      "cell_type": "code",
      "source": [
        "class Student:\n",
        "    def __init__(self, name, grades):\n",
        "        self.name = name\n",
        "        self.grades = grades  # Expecting a list of numbers\n",
        "\n",
        "    def average_grade(self):\n",
        "        if self.grades:\n",
        "            return sum(self.grades) / len(self.grades)\n",
        "        else:\n",
        "            return 0.0\n",
        "\n",
        "# Test it out\n",
        "s = Student(\"Soumeya\", [85, 90, 78, 92])\n",
        "print(f\"{s.name}'s average grade is: {s.average_grade():.2f}\")"
      ],
      "metadata": {
        "colab": {
          "base_uri": "https://localhost:8080/"
        },
        "id": "3-MRn2e7mlbS",
        "outputId": "5f8d91fb-7b72-4df1-b3f2-5b7554bdc2d0"
      },
      "execution_count": 17,
      "outputs": [
        {
          "output_type": "stream",
          "name": "stdout",
          "text": [
            "Soumeya's average grade is: 86.25\n"
          ]
        }
      ]
    },
    {
      "cell_type": "markdown",
      "source": [
        " 13. Create a class Rectangle with methods set_dimensions() to set the dimensions and area() to calculate the\n",
        "area."
      ],
      "metadata": {
        "id": "PFKMLiJpmpvA"
      }
    },
    {
      "cell_type": "code",
      "source": [
        "class Rectangle:\n",
        "    def __init__(self):\n",
        "        self.length = 0\n",
        "        self.width = 0\n",
        "\n",
        "    def set_dimensions(self, length, width):\n",
        "        self.length = length\n",
        "        self.width = width\n",
        "\n",
        "    def area(self):\n",
        "        return self.length * self.width\n",
        "\n",
        "# Test it out\n",
        "rect = Rectangle()\n",
        "rect.set_dimensions(5, 3)\n",
        "print(\"Area of rectangle:\", rect.area())\n"
      ],
      "metadata": {
        "colab": {
          "base_uri": "https://localhost:8080/"
        },
        "id": "OlbDIvpJmqs4",
        "outputId": "c9a6b12c-b457-407d-933e-c5c2a54c9d53"
      },
      "execution_count": 18,
      "outputs": [
        {
          "output_type": "stream",
          "name": "stdout",
          "text": [
            "Area of rectangle: 15\n"
          ]
        }
      ]
    },
    {
      "cell_type": "markdown",
      "source": [
        " 14. Create a class Employee with a method calculate_salary() that computes the salary based on hours worked\n",
        "and hourly rate. Create a derived class Manager that adds a bonus to the salary."
      ],
      "metadata": {
        "id": "__jMXrVVmxZx"
      }
    },
    {
      "cell_type": "code",
      "source": [
        "# Base class\n",
        "class Employee:\n",
        "    def __init__(self, name, hours_worked, hourly_rate):\n",
        "        self.name = name\n",
        "        self.hours_worked = hours_worked\n",
        "        self.hourly_rate = hourly_rate\n",
        "\n",
        "    def calculate_salary(self):\n",
        "        return self.hours_worked * self.hourly_rate\n",
        "\n",
        "# Derived class\n",
        "class Manager(Employee):\n",
        "    def __init__(self, name, hours_worked, hourly_rate, bonus):\n",
        "        super().__init__(name, hours_worked, hourly_rate)\n",
        "        self.bonus = bonus\n",
        "\n",
        "    def calculate_salary(self):\n",
        "        base_salary = super().calculate_salary()\n",
        "        return base_salary + self.bonus\n",
        "\n",
        "# Test it out\n",
        "emp = Employee(\"Soumeya\", 40, 500)\n",
        "mgr = Manager(\"Ayaan\", 40, 500, 2000)\n",
        "\n",
        "print(f\"{emp.name}'s salary: ₹{emp.calculate_salary()}\")\n",
        "print(f\"{mgr.name}'s salary: ₹{mgr.calculate_salary()}\")\n"
      ],
      "metadata": {
        "colab": {
          "base_uri": "https://localhost:8080/"
        },
        "id": "KxTmuY4jmzK1",
        "outputId": "ed0bfab5-1784-4077-ab9e-57250d5d7814"
      },
      "execution_count": 20,
      "outputs": [
        {
          "output_type": "stream",
          "name": "stdout",
          "text": [
            "Soumeya's salary: ₹20000\n",
            "Ayaan's salary: ₹22000\n"
          ]
        }
      ]
    },
    {
      "cell_type": "markdown",
      "source": [
        "15. Create a class Product with attributes name, price, and quantity. Implement a method total_price() that\n",
        "calculates the total price of the product."
      ],
      "metadata": {
        "id": "DvXCCp9wm8dv"
      }
    },
    {
      "cell_type": "code",
      "source": [
        "class Product:\n",
        "    def __init__(self, name, price, quantity):\n",
        "        self.name = name\n",
        "        self.price = price\n",
        "        self.quantity = quantity\n",
        "\n",
        "    def total_price(self):\n",
        "        return self.price * self.quantity\n",
        "\n",
        "# Test it out\n",
        "item = Product(\"Laptop\", 50000, 2)\n",
        "print(f\"Total price for {item.name}: ₹{item.total_price()}\")\n"
      ],
      "metadata": {
        "colab": {
          "base_uri": "https://localhost:8080/"
        },
        "id": "9df0xRrZm9Uu",
        "outputId": "2fb467eb-fdef-4edf-f405-d865bcb65c99"
      },
      "execution_count": 21,
      "outputs": [
        {
          "output_type": "stream",
          "name": "stdout",
          "text": [
            "Total price for Laptop: ₹100000\n"
          ]
        }
      ]
    },
    {
      "cell_type": "markdown",
      "source": [
        " 16. Create a class Animal with an abstract method sound(). Create two derived classes Cow and Sheep that\n",
        "implement the sound() method."
      ],
      "metadata": {
        "id": "PELGHx3tnF90"
      }
    },
    {
      "cell_type": "code",
      "source": [
        "from abc import ABC, abstractmethod\n",
        "\n",
        "# Abstract base class\n",
        "class Animal(ABC):\n",
        "    @abstractmethod\n",
        "    def sound(self):\n",
        "        pass\n",
        "\n",
        "# Cow class\n",
        "class Cow(Animal):\n",
        "    def sound(self):\n",
        "        print(\"Moo!\")\n",
        "\n",
        "# Sheep class\n",
        "class Sheep(Animal):\n",
        "    def sound(self):\n",
        "        print(\"Baa!\")\n",
        "\n",
        "# Test it out\n",
        "c = Cow()\n",
        "s = Sheep()\n",
        "\n",
        "c.sound()\n",
        "s.sound()"
      ],
      "metadata": {
        "colab": {
          "base_uri": "https://localhost:8080/"
        },
        "id": "wGdn8tOWnHGH",
        "outputId": "5c59840a-dd90-4a3d-86c8-ed863b2efe83"
      },
      "execution_count": 22,
      "outputs": [
        {
          "output_type": "stream",
          "name": "stdout",
          "text": [
            "Moo!\n",
            "Baa!\n"
          ]
        }
      ]
    },
    {
      "cell_type": "markdown",
      "source": [
        "17. Create a class Book with attributes title, author, and year_published. Add a method get_book_info() that\n",
        "returns a formatted string with the book's details."
      ],
      "metadata": {
        "id": "DDwlVBFinN48"
      }
    },
    {
      "cell_type": "code",
      "source": [
        "class Book:\n",
        "    def __init__(self, title, author, year_published):\n",
        "        self.title = title\n",
        "        self.author = author\n",
        "        self.year_published = year_published\n",
        "\n",
        "    def get_book_info(self):\n",
        "        return f\"'{self.title}' by {self.author}, published in {self.year_published}\"\n",
        "\n",
        "# Test it out\n",
        "b = Book(\"The Python Journey\", \"Soumeya\", 2025)\n",
        "print(b.get_book_info())\n"
      ],
      "metadata": {
        "colab": {
          "base_uri": "https://localhost:8080/"
        },
        "id": "EStyw9BwmjSb",
        "outputId": "45dbc4df-72d5-4149-872e-53ce11b47a82"
      },
      "execution_count": 23,
      "outputs": [
        {
          "output_type": "stream",
          "name": "stdout",
          "text": [
            "'The Python Journey' by Soumeya, published in 2025\n"
          ]
        }
      ]
    },
    {
      "cell_type": "markdown",
      "source": [
        " 18. Create a class House with attributes address and price. Create a derived class Mansion that adds an\n",
        "attribute number_of_rooms."
      ],
      "metadata": {
        "id": "6O9t7rqfnWmt"
      }
    },
    {
      "cell_type": "code",
      "source": [
        "# Base class\n",
        "class House:\n",
        "    def __init__(self, address, price):\n",
        "        self.address = address\n",
        "        self.price = price\n",
        "\n",
        "# Derived class\n",
        "class Mansion(House):\n",
        "    def __init__(self, address, price, number_of_rooms):\n",
        "        super().__init__(address, price)\n",
        "        self.number_of_rooms = number_of_rooms\n",
        "\n",
        "# Test it out\n",
        "villa = Mansion(\"Palm Street, Mumbai\", 50000000, 12)\n",
        "\n",
        "print(f\"Address: {villa.address}\")\n",
        "print(f\"Price: ₹{villa.price}\")\n",
        "print(f\"Rooms: {villa.number_of_rooms}\")\n"
      ],
      "metadata": {
        "colab": {
          "base_uri": "https://localhost:8080/"
        },
        "id": "1KidPfrkmUlY",
        "outputId": "2acf38e3-1e3f-4bac-a4e8-d9374a736b4d"
      },
      "execution_count": 24,
      "outputs": [
        {
          "output_type": "stream",
          "name": "stdout",
          "text": [
            "Address: Palm Street, Mumbai\n",
            "Price: ₹50000000\n",
            "Rooms: 12\n"
          ]
        }
      ]
    },
    {
      "cell_type": "code",
      "source": [],
      "metadata": {
        "id": "5F0u8hp5nbpz"
      },
      "execution_count": null,
      "outputs": []
    }
  ]
}